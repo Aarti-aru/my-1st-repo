{
 "cells": [
  {
   "cell_type": "code",
   "execution_count": 1,
   "id": "0d45c4ec-4901-4565-8979-c2785f2da413",
   "metadata": {},
   "outputs": [],
   "source": [
    "import random \n",
    "import string"
   ]
  },
  {
   "cell_type": "code",
   "execution_count": 36,
   "id": "be34b8e8-97d3-4e93-98b2-2925e5a1c5a7",
   "metadata": {},
   "outputs": [
    {
     "name": "stdin",
     "output_type": "stream",
     "text": [
      "Enter the password length:  5\n"
     ]
    },
    {
     "name": "stdout",
     "output_type": "stream",
     "text": [
      "Your random password is: @*P/:\n",
      "\n",
      "Generating 3 random passwords:\n",
      "Password 1: LhR{s\n",
      "Password 2: f}Od:\n",
      "Password 3: ,\\Zn>\n"
     ]
    }
   ],
   "source": [
    "def generate_password(length=()):\n",
    "    characters = string.ascii_letters + string.digits + string.punctuation\n",
    "    password = ''.join(random.choice(characters) for _ in range(length))\n",
    "    return password\n",
    "    \n",
    "password_length = int(input(\"Enter the password length: \"))\n",
    "\n",
    "\n",
    "print(\"Your random password is:\", generate_password(password_length))\n",
    "\n",
    "num_password = 3\n",
    "print(\"\\nGenerating 3 random passwords:\")\n",
    "for i in range(num_password):\n",
    "    print(f\"Password {i + 1}: {generate_password(password_length)}\")"
   ]
  },
  {
   "cell_type": "code",
   "execution_count": null,
   "id": "0b53b0eb-f290-4074-b8dd-c33abf5fa88e",
   "metadata": {},
   "outputs": [],
   "source": []
  },
  {
   "cell_type": "markdown",
   "id": "5fffd9cd-57a2-4734-820a-91c0bf64f08c",
   "metadata": {},
   "source": [
    "## Password Generator Without User Input"
   ]
  },
  {
   "cell_type": "code",
   "execution_count": 4,
   "id": "445d07fe-b829-4466-be44-00b6c13f50bd",
   "metadata": {},
   "outputs": [],
   "source": [
    "import random\n",
    "import string"
   ]
  },
  {
   "cell_type": "code",
   "execution_count": 29,
   "id": "b9330988-712b-4071-97cd-0612ad7d838c",
   "metadata": {},
   "outputs": [
    {
     "name": "stdout",
     "output_type": "stream",
     "text": [
      "Your random password is: !p]ZF\"ups\\;~\n"
     ]
    }
   ],
   "source": [
    "import random\n",
    "import string\n",
    "\n",
    "def Generate_Password(length=12):\n",
    "    char = string.ascii_lowercase + string.ascii_uppercase + string.digits + string.punctuation\n",
    "    password = ''.join(random.choice(char) for _ in range(length))\n",
    "    return password\n",
    "print(\"Your random password is:\", Generate_Password())\n"
   ]
  },
  {
   "cell_type": "code",
   "execution_count": null,
   "id": "a6ce298f-504f-43cb-a5a3-e13043f4d4a3",
   "metadata": {},
   "outputs": [],
   "source": []
  },
  {
   "cell_type": "code",
   "execution_count": null,
   "id": "d9bf4ab9-53ec-49d8-8325-e8967fef6c50",
   "metadata": {},
   "outputs": [],
   "source": [
    "which jupyter"
   ]
  }
 ],
 "metadata": {
  "kernelspec": {
   "display_name": "Python 3 (ipykernel)",
   "language": "python",
   "name": "python3"
  },
  "language_info": {
   "codemirror_mode": {
    "name": "ipython",
    "version": 3
   },
   "file_extension": ".py",
   "mimetype": "text/x-python",
   "name": "python",
   "nbconvert_exporter": "python",
   "pygments_lexer": "ipython3",
   "version": "3.12.4"
  }
 },
 "nbformat": 4,
 "nbformat_minor": 5
}
